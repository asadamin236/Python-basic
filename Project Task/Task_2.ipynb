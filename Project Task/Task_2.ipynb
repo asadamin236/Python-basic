{
 "cells": [
  {
   "cell_type": "markdown",
   "id": "f07f85e8",
   "metadata": {},
   "source": [
    "## Run Library"
   ]
  },
  {
   "cell_type": "code",
   "execution_count": 4,
   "id": "db788776",
   "metadata": {},
   "outputs": [],
   "source": [
    "import pandas as pd"
   ]
  },
  {
   "cell_type": "markdown",
   "id": "663037f2",
   "metadata": {},
   "source": [
    "## Run Data"
   ]
  },
  {
   "cell_type": "code",
   "execution_count": 5,
   "id": "e09610b2",
   "metadata": {},
   "outputs": [],
   "source": [
    "Df = pd.read_csv(\"Final_Results.csv\")"
   ]
  },
  {
   "cell_type": "code",
   "execution_count": 7,
   "id": "389673bd",
   "metadata": {},
   "outputs": [
    {
     "data": {
      "text/html": [
       "<div>\n",
       "<style scoped>\n",
       "    .dataframe tbody tr th:only-of-type {\n",
       "        vertical-align: middle;\n",
       "    }\n",
       "\n",
       "    .dataframe tbody tr th {\n",
       "        vertical-align: top;\n",
       "    }\n",
       "\n",
       "    .dataframe thead th {\n",
       "        text-align: right;\n",
       "    }\n",
       "</style>\n",
       "<table border=\"1\" class=\"dataframe\">\n",
       "  <thead>\n",
       "    <tr style=\"text-align: right;\">\n",
       "      <th></th>\n",
       "      <th>AWB Code</th>\n",
       "      <th>Order ID</th>\n",
       "      <th>Charged Weight</th>\n",
       "      <th>Warehouse Pincode</th>\n",
       "      <th>Customer Pincode</th>\n",
       "      <th>Zone</th>\n",
       "      <th>Type of Shipment</th>\n",
       "      <th>Billing Amount (Rs.)</th>\n",
       "      <th>Charges Billed by Courier Company (Rs.)</th>\n",
       "      <th>Zone_Category_Wiz_Total_Weight</th>\n",
       "      <th>Total_Amount_Zones</th>\n",
       "      <th>Expected Rates</th>\n",
       "      <th>Total_Amount_By_Courier</th>\n",
       "    </tr>\n",
       "  </thead>\n",
       "  <tbody>\n",
       "    <tr>\n",
       "      <th>0</th>\n",
       "      <td>1091117222124</td>\n",
       "      <td>2001806232</td>\n",
       "      <td>1.30</td>\n",
       "      <td>121003</td>\n",
       "      <td>507101</td>\n",
       "      <td>d</td>\n",
       "      <td>Forward charges</td>\n",
       "      <td>135.0</td>\n",
       "      <td>11357.5</td>\n",
       "      <td>91.05</td>\n",
       "      <td>11357.5</td>\n",
       "      <td>4.75</td>\n",
       "      <td>11352.75</td>\n",
       "    </tr>\n",
       "    <tr>\n",
       "      <th>1</th>\n",
       "      <td>1091117222194</td>\n",
       "      <td>2001806273</td>\n",
       "      <td>1.00</td>\n",
       "      <td>121003</td>\n",
       "      <td>486886</td>\n",
       "      <td>d</td>\n",
       "      <td>Forward charges</td>\n",
       "      <td>90.2</td>\n",
       "      <td>11357.5</td>\n",
       "      <td>91.05</td>\n",
       "      <td>11357.5</td>\n",
       "      <td>4.75</td>\n",
       "      <td>11352.75</td>\n",
       "    </tr>\n",
       "    <tr>\n",
       "      <th>2</th>\n",
       "      <td>1091117222931</td>\n",
       "      <td>2001806408</td>\n",
       "      <td>2.50</td>\n",
       "      <td>121003</td>\n",
       "      <td>532484</td>\n",
       "      <td>d</td>\n",
       "      <td>Forward charges</td>\n",
       "      <td>224.6</td>\n",
       "      <td>11357.5</td>\n",
       "      <td>91.05</td>\n",
       "      <td>11357.5</td>\n",
       "      <td>4.75</td>\n",
       "      <td>11352.75</td>\n",
       "    </tr>\n",
       "    <tr>\n",
       "      <th>3</th>\n",
       "      <td>1091117223244</td>\n",
       "      <td>2001806458</td>\n",
       "      <td>1.00</td>\n",
       "      <td>121003</td>\n",
       "      <td>143001</td>\n",
       "      <td>b</td>\n",
       "      <td>Forward charges</td>\n",
       "      <td>61.3</td>\n",
       "      <td>1969.9</td>\n",
       "      <td>26.50</td>\n",
       "      <td>1969.9</td>\n",
       "      <td>1.50</td>\n",
       "      <td>1968.40</td>\n",
       "    </tr>\n",
       "    <tr>\n",
       "      <th>4</th>\n",
       "      <td>1091117229345</td>\n",
       "      <td>2001807012</td>\n",
       "      <td>0.15</td>\n",
       "      <td>121003</td>\n",
       "      <td>515591</td>\n",
       "      <td>d</td>\n",
       "      <td>Forward charges</td>\n",
       "      <td>45.4</td>\n",
       "      <td>11357.5</td>\n",
       "      <td>91.05</td>\n",
       "      <td>11357.5</td>\n",
       "      <td>4.75</td>\n",
       "      <td>11352.75</td>\n",
       "    </tr>\n",
       "  </tbody>\n",
       "</table>\n",
       "</div>"
      ],
      "text/plain": [
       "        AWB Code    Order ID  Charged Weight  Warehouse Pincode  \\\n",
       "0  1091117222124  2001806232            1.30             121003   \n",
       "1  1091117222194  2001806273            1.00             121003   \n",
       "2  1091117222931  2001806408            2.50             121003   \n",
       "3  1091117223244  2001806458            1.00             121003   \n",
       "4  1091117229345  2001807012            0.15             121003   \n",
       "\n",
       "   Customer Pincode Zone Type of Shipment  Billing Amount (Rs.)  \\\n",
       "0            507101    d  Forward charges                 135.0   \n",
       "1            486886    d  Forward charges                  90.2   \n",
       "2            532484    d  Forward charges                 224.6   \n",
       "3            143001    b  Forward charges                  61.3   \n",
       "4            515591    d  Forward charges                  45.4   \n",
       "\n",
       "   Charges Billed by Courier Company (Rs.)  Zone_Category_Wiz_Total_Weight  \\\n",
       "0                                  11357.5                           91.05   \n",
       "1                                  11357.5                           91.05   \n",
       "2                                  11357.5                           91.05   \n",
       "3                                   1969.9                           26.50   \n",
       "4                                  11357.5                           91.05   \n",
       "\n",
       "   Total_Amount_Zones  Expected Rates  Total_Amount_By_Courier  \n",
       "0             11357.5            4.75                 11352.75  \n",
       "1             11357.5            4.75                 11352.75  \n",
       "2             11357.5            4.75                 11352.75  \n",
       "3              1969.9            1.50                  1968.40  \n",
       "4             11357.5            4.75                 11352.75  "
      ]
     },
     "execution_count": 7,
     "metadata": {},
     "output_type": "execute_result"
    }
   ],
   "source": [
    "Df.head()"
   ]
  },
  {
   "cell_type": "markdown",
   "id": "119128dc",
   "metadata": {},
   "source": [
    "## Find Out Correctly Charged Amount, Over Charged And Under Charged"
   ]
  },
  {
   "cell_type": "code",
   "execution_count": 54,
   "id": "5b712cf8",
   "metadata": {},
   "outputs": [],
   "source": [
    "# Correctly Charged Orders\n",
    "correctly_charged = Df[(Df['Billing Amount (Rs.)'] >= 71) & (Df['Billing Amount (Rs.)'] <= 150)]\n",
    "correctly_charged_count = correctly_charged.shape[0]\n",
    "correctly_charged_amount = correctly_charged['Billing Amount (Rs.)'].sum()"
   ]
  },
  {
   "cell_type": "code",
   "execution_count": 55,
   "id": "de28c169",
   "metadata": {},
   "outputs": [
    {
     "data": {
      "text/plain": [
       "70"
      ]
     },
     "execution_count": 55,
     "metadata": {},
     "output_type": "execute_result"
    }
   ],
   "source": [
    "correctly_charged_count"
   ]
  },
  {
   "cell_type": "code",
   "execution_count": 56,
   "id": "8b54919f",
   "metadata": {},
   "outputs": [
    {
     "data": {
      "text/plain": [
       "6804.8"
      ]
     },
     "execution_count": 56,
     "metadata": {},
     "output_type": "execute_result"
    }
   ],
   "source": [
    "correctly_charged_amount"
   ]
  },
  {
   "cell_type": "code",
   "execution_count": 39,
   "id": "76132c83",
   "metadata": {},
   "outputs": [],
   "source": [
    "# Over Charged Orders\n",
    "Over_charged = Df[(Df['Billing Amount (Rs.)'] >= 151) & (Df['Billing Amount (Rs.)'] <= 405)]\n",
    "Over_charged_count = Over_charged.shape[0]\n",
    "Over_charged_amount = Over_charged['Billing Amount (Rs.)'].sum()"
   ]
  },
  {
   "cell_type": "code",
   "execution_count": 40,
   "id": "23bd4e84",
   "metadata": {},
   "outputs": [
    {
     "data": {
      "text/plain": [
       "25"
      ]
     },
     "execution_count": 40,
     "metadata": {},
     "output_type": "execute_result"
    }
   ],
   "source": [
    "Over_charged_count"
   ]
  },
  {
   "cell_type": "code",
   "execution_count": 41,
   "id": "bda6f891",
   "metadata": {},
   "outputs": [
    {
     "data": {
      "text/plain": [
       "5405.0"
      ]
     },
     "execution_count": 41,
     "metadata": {},
     "output_type": "execute_result"
    }
   ],
   "source": [
    "Over_charged_amount"
   ]
  },
  {
   "cell_type": "code",
   "execution_count": 48,
   "id": "1594d4c4",
   "metadata": {},
   "outputs": [],
   "source": [
    "# Under Charged Orders\n",
    "Under_charged = Df[(Df['Billing Amount (Rs.)'] >= 0) & (Df['Billing Amount (Rs.)'] <= 70)]\n",
    "Under_charged_count = Under_charged.shape[0]\n",
    "Under_charged_amount = Under_charged['Billing Amount (Rs.)'].sum()"
   ]
  },
  {
   "cell_type": "code",
   "execution_count": 49,
   "id": "9cc16f2d",
   "metadata": {},
   "outputs": [
    {
     "data": {
      "text/plain": [
       "29"
      ]
     },
     "execution_count": 49,
     "metadata": {},
     "output_type": "execute_result"
    }
   ],
   "source": [
    "Under_charged_count"
   ]
  },
  {
   "cell_type": "code",
   "execution_count": 50,
   "id": "764653b2",
   "metadata": {},
   "outputs": [
    {
     "data": {
      "text/plain": [
       "1438.4"
      ]
     },
     "execution_count": 50,
     "metadata": {},
     "output_type": "execute_result"
    }
   ],
   "source": [
    "Under_charged_amount"
   ]
  },
  {
   "cell_type": "markdown",
   "id": "079bc87e",
   "metadata": {},
   "source": [
    "## Final DataFrame Results"
   ]
  },
  {
   "cell_type": "code",
   "execution_count": 58,
   "id": "243739a9",
   "metadata": {},
   "outputs": [],
   "source": [
    "# Summary Table Creation\n",
    "summary_data = {\n",
    "    'Category': ['Total orders where X has been correctly charged', 'Total Orders where X has been overcharged ', 'Total Orders where X has been undercharged '],\n",
    "    'Count_Of_Orders': [correctly_charged_count, Over_charged_count, Under_charged_count],\n",
    "    'Amount (Rs.)': [correctly_charged_amount, Over_charged_amount, Under_charged_amount]\n",
    "}\n",
    "\n",
    "Summary_Data = pd.DataFrame(summary_data)"
   ]
  },
  {
   "cell_type": "code",
   "execution_count": 59,
   "id": "a24ef9cc",
   "metadata": {},
   "outputs": [
    {
     "data": {
      "text/html": [
       "<div>\n",
       "<style scoped>\n",
       "    .dataframe tbody tr th:only-of-type {\n",
       "        vertical-align: middle;\n",
       "    }\n",
       "\n",
       "    .dataframe tbody tr th {\n",
       "        vertical-align: top;\n",
       "    }\n",
       "\n",
       "    .dataframe thead th {\n",
       "        text-align: right;\n",
       "    }\n",
       "</style>\n",
       "<table border=\"1\" class=\"dataframe\">\n",
       "  <thead>\n",
       "    <tr style=\"text-align: right;\">\n",
       "      <th></th>\n",
       "      <th>Category</th>\n",
       "      <th>Count_Of_Orders</th>\n",
       "      <th>Amount (Rs.)</th>\n",
       "    </tr>\n",
       "  </thead>\n",
       "  <tbody>\n",
       "    <tr>\n",
       "      <th>0</th>\n",
       "      <td>Total orders where X has been correctly charged</td>\n",
       "      <td>70</td>\n",
       "      <td>6804.8</td>\n",
       "    </tr>\n",
       "    <tr>\n",
       "      <th>1</th>\n",
       "      <td>Total Orders where X has been overcharged</td>\n",
       "      <td>25</td>\n",
       "      <td>5405.0</td>\n",
       "    </tr>\n",
       "    <tr>\n",
       "      <th>2</th>\n",
       "      <td>Total Orders where X has been undercharged</td>\n",
       "      <td>29</td>\n",
       "      <td>1438.4</td>\n",
       "    </tr>\n",
       "  </tbody>\n",
       "</table>\n",
       "</div>"
      ],
      "text/plain": [
       "                                          Category  Count_Of_Orders  \\\n",
       "0  Total orders where X has been correctly charged               70   \n",
       "1       Total Orders where X has been overcharged                25   \n",
       "2      Total Orders where X has been undercharged                29   \n",
       "\n",
       "   Amount (Rs.)  \n",
       "0        6804.8  \n",
       "1        5405.0  \n",
       "2        1438.4  "
      ]
     },
     "execution_count": 59,
     "metadata": {},
     "output_type": "execute_result"
    }
   ],
   "source": [
    "Summary_Data"
   ]
  },
  {
   "cell_type": "markdown",
   "id": "5446c5a2",
   "metadata": {},
   "source": [
    "## Results to CSV File"
   ]
  },
  {
   "cell_type": "code",
   "execution_count": 60,
   "id": "c4a1bba8",
   "metadata": {},
   "outputs": [],
   "source": [
    "Summary_Data.to_csv('Final_Assignment_Results.csv', index=False)"
   ]
  },
  {
   "cell_type": "code",
   "execution_count": null,
   "id": "f0040982",
   "metadata": {},
   "outputs": [],
   "source": []
  }
 ],
 "metadata": {
  "kernelspec": {
   "display_name": "Python 3 (ipykernel)",
   "language": "python",
   "name": "python3"
  },
  "language_info": {
   "codemirror_mode": {
    "name": "ipython",
    "version": 3
   },
   "file_extension": ".py",
   "mimetype": "text/x-python",
   "name": "python",
   "nbconvert_exporter": "python",
   "pygments_lexer": "ipython3",
   "version": "3.11.5"
  }
 },
 "nbformat": 4,
 "nbformat_minor": 5
}
