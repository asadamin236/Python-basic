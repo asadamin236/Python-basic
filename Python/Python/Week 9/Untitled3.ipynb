{
 "cells": [
  {
   "cell_type": "code",
   "execution_count": 3,
   "id": "c7c9e98e",
   "metadata": {},
   "outputs": [],
   "source": [
    "a = 2\n",
    "b = 3\n",
    "c = 0.1\n",
    "c1 = 0.2\n",
    "Z = (a*c) + (b * c1)"
   ]
  },
  {
   "cell_type": "code",
   "execution_count": 4,
   "id": "16cc48e9",
   "metadata": {},
   "outputs": [
    {
     "name": "stdout",
     "output_type": "stream",
     "text": [
      "Perform Action\n"
     ]
    }
   ],
   "source": [
    "if(Z > 0.5):\n",
    "    print(\"Perform Action\")\n",
    "else:\n",
    "    print(\"Not Perform Action\")"
   ]
  },
  {
   "cell_type": "code",
   "execution_count": null,
   "id": "cf750212",
   "metadata": {},
   "outputs": [],
   "source": []
  }
 ],
 "metadata": {
  "kernelspec": {
   "display_name": "Python 3",
   "language": "python",
   "name": "python3"
  },
  "language_info": {
   "codemirror_mode": {
    "name": "ipython",
    "version": 3
   },
   "file_extension": ".py",
   "mimetype": "text/x-python",
   "name": "python",
   "nbconvert_exporter": "python",
   "pygments_lexer": "ipython3",
   "version": "3.8.8"
  }
 },
 "nbformat": 4,
 "nbformat_minor": 5
}
